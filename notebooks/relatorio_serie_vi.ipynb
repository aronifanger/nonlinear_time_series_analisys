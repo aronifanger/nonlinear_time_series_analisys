{
 "cells": [
  {
   "cell_type": "markdown",
   "metadata": {},
   "source": [
    "### Disciplina de Análise de Séries Temporais Não Lineares - UNIFESP\n",
    "___\n",
    "\n",
    "# Série de exercícios VI\n",
    "\n",
    "##### Autores: Aron Ifanger Maciel, Rodney Rick"
   ]
  },
  {
   "cell_type": "markdown",
   "metadata": {},
   "source": [
    "### Exercício 1 \n",
    "\n",
    "Implemente computacionalmente os Métodos de Reconstrução de Atrator\tdescritos\tna\tseção\t6.1\tdo\tlivro do Gollub, que está disponível na nossa área comum (arquivo “Embeeding”). Se precisar, recorra às informações\tque\testão disponíveis no capítulo 5\t(arquiovo Gollub) para implementar os métodos.\n",
    "\n",
    "<font color=\"darkblue\"><i>\n",
    "    De acordo com o teorema de Takens, a reconstrução preserva as propriedades do sistema dinâmico que não mudam sob mudanças suaves de coordenadas, mas não preserva a forma geométrica das estruturas no espaço de fase.\n",
    "    \n",
    "</i></font>"
   ]
  },
  {
   "cell_type": "code",
   "execution_count": 1,
   "metadata": {},
   "outputs": [],
   "source": [
    "import os\n",
    "os.chdir('../')"
   ]
  },
  {
   "cell_type": "code",
   "execution_count": 2,
   "metadata": {},
   "outputs": [],
   "source": [
    "#%%writefile \"nltsa_functions.py\"\n",
    "\n",
    "import numpy as np\n",
    "\n",
    "def psr(serie, m=2, tau=2):\n",
    "    \"\"\"\n",
    "    Phase Space Reconstruction from Taken's Theorem\n",
    "    :param serie: original time serie\n",
    "    :param m: embedding dimention;\n",
    "    :param tau: lag;\n",
    "    :return: lagged time serie.\n",
    "    \"\"\"\n",
    "    tail_size = -(m-1)*tau\n",
    "    if tail_size == 0:\n",
    "        return np.array([np.roll(serie, -i*tau) for i in range(m)])\n",
    "    else:\n",
    "        return np.array([np.roll(serie, -i*tau)[:-(m-1)*tau] for i in range(m)])"
   ]
  },
  {
   "cell_type": "markdown",
   "metadata": {},
   "source": [
    "### Exercício 2\n",
    "\n",
    "Aplique o método para fazer o Embeeding dos atratores de Lorenz e de Rossler."
   ]
  },
  {
   "cell_type": "code",
   "execution_count": 3,
   "metadata": {},
   "outputs": [],
   "source": [
    "#%%writefile -a \"nltsa_functions.py\"\n",
    "\n",
    "def runge_kutta(ode, state, dt=0.01):\n",
    "    \"\"\"\n",
    "    The Classic Runge Kutta Method\n",
    "    https://en.wikipedia.org/wiki/Runge%E2%80%93Kutta_methods\n",
    "    \n",
    "    :param ode: ODE object;\n",
    "    :param state: input function;\n",
    "    :param dt: interval (h);\n",
    "    :return: integration result.\n",
    "    \"\"\"\n",
    "    k1 = dt * ode.f(state)\n",
    "    k2 = dt * ode.f(state + 0.5 * k1)\n",
    "    k3 = dt * ode.f(state + 0.5 * k2)\n",
    "    k4 = dt * ode.f(state + k3)\n",
    "    \n",
    "    return state + (k1 + 2 * k2 + 2 * k3 + k4) / 6\n",
    "\n",
    "\n",
    "def generate(ode, lenght=5000):\n",
    "    \"\"\"\n",
    "    Time series generation from a ODE\n",
    "    \n",
    "    :param ode: ODE object;\n",
    "    :param lenght: serie lenght;\n",
    "    :return: time serie.\n",
    "    \"\"\"\n",
    "    state = ode.initial_state\n",
    "    data = np.zeros([int(state.shape[0]), lenght])\n",
    "\n",
    "    for i in range(5000):\n",
    "        state = runge_kutta(ode, state)\n",
    "\n",
    "    for i in range(lenght):\n",
    "        state = runge_kutta(ode, state)\n",
    "        data[:, i] = state\n",
    "\n",
    "    return data\n",
    "\n",
    "def generate_discrete(rmap, lenght=5000):\n",
    "    \"\"\"\n",
    "    Time series generation from a ODE\n",
    "    \n",
    "    :param dmap: Map object;\n",
    "    :param lenght: serie lenght;\n",
    "    :return: time serie.\n",
    "    \"\"\"\n",
    "    state = rmap.initial_state\n",
    "    data = np.zeros([int(state.shape[0]), lenght])\n",
    "\n",
    "    for i in range(5000):\n",
    "        state = rmap.f(state)\n",
    "\n",
    "    for i in range(lenght):\n",
    "        state = rmap.f(state)\n",
    "        data[:, i] = state\n",
    "\n",
    "    return data\n",
    "\n",
    "\n",
    "class LorenzODE:\n",
    "    \n",
    "    def __init__(self, state=None, parameters=None):\n",
    "        \"\"\"\n",
    "        ODE constructor\n",
    "        \n",
    "        :param state: initial state (x, y, z);\n",
    "        :param parameters: ODE parameters (sigma, beta, rho);\n",
    "        \"\"\"\n",
    "        \n",
    "        self.initial_state = state if state is not None else np.array([-8.0, 8.0, 27.0])\n",
    "        self.parameters = parameters if parameters is not None else np.array([10.0, 8/3.0, 28.0])\n",
    "\n",
    "        \n",
    "    def f(self, state):\n",
    "        \"\"\"\n",
    "        Lorenz ODEs\n",
    "        https://en.wikipedia.org/wiki/Lorenz_system\n",
    "\n",
    "        :return: f(x, y, z).\n",
    "        \"\"\"\n",
    "        x, y, z = state\n",
    "        sigma, beta, rho = self.parameters\n",
    "        return np.array([sigma * (y - x), \n",
    "                         x * (rho - z) - y, \n",
    "                         x * y - beta * z])\n",
    "    \n",
    "    \n",
    "class RosslerODE:\n",
    "    \n",
    "    def __init__(self, state=None, parameters=None):\n",
    "        \"\"\"\n",
    "        :param state: initial state (x, y, z);\n",
    "        :param parameters: ODE parameters (a, b, c);\n",
    "        \"\"\"\n",
    "        \n",
    "        self.initial_state = state if state is not None else np.array([-8.0, 8.0, 27.0])\n",
    "        self.parameters = parameters if parameters is not None else np.array([0.2, 0.2, 5.7])\n",
    "\n",
    "        \n",
    "    def f(self, state):\n",
    "        \"\"\"\n",
    "        Rossler ODEs\n",
    "        https://en.wikipedia.org/wiki/R%C3%B6ssler_attractor\n",
    "\n",
    "        :return: f(x, y, z).\n",
    "        \"\"\"\n",
    "        x, y, z = state\n",
    "        a, b, c = self.parameters\n",
    "        return np.array([- y - z, \n",
    "                         a * y + x, \n",
    "                         z * (x - c) + b])\n",
    "    \n",
    "    \n",
    "class HenonMap:\n",
    "    \n",
    "    def __init__(self, state=None, parameters=None):\n",
    "        \"\"\"\n",
    "        :param state: initial state (x, y);\n",
    "        :param parameters: ODE parameters (a, b);\n",
    "        \"\"\"\n",
    "        \n",
    "        self.initial_state = state if state is not None else np.array([0.6, 0.3])\n",
    "        self.parameters = parameters if parameters is not None else np.array([1.4, 0.3])\n",
    "\n",
    "        \n",
    "    def f(self, state):\n",
    "        \"\"\"\n",
    "        Henon Map\n",
    "        https://en.wikipedia.org/wiki/H%C3%A9non_map\n",
    "\n",
    "        :return: f(x, y).\n",
    "        \"\"\"\n",
    "        x, y = state\n",
    "        a, b = self.parameters\n",
    "        return np.array([1 - a * x ** 2 + y, \n",
    "                         b * x])\n",
    "\n",
    "class FoldedTowelMap:\n",
    "    \n",
    "    def __init__(self, state=None, parameters=None):\n",
    "        \"\"\"\n",
    "        :param state: initial state (x, y, z);\n",
    "        :param parameters: not used;\n",
    "        \"\"\"\n",
    "        \n",
    "        self.initial_state = state if state is not None else np.array([0.6, 0.3, 0.4])\n",
    "        self.parameters = None\n",
    "\n",
    "        \n",
    "    def f(self, state):\n",
    "        \"\"\"\n",
    "        FoldedTowelMap\n",
    "        Paralitz\n",
    "\n",
    "        :return: f(x, y).\n",
    "        \"\"\"\n",
    "        x, y, z = state\n",
    "        return np.array([3.8 * x * (1 - x) - 0.05 * (y + 0.35) * (1 - 2 * z), \n",
    "                         0.1 * ((y + 0.35) * (1 - 2 * z) - 1) * (1 - 1.9 * x),\n",
    "                         3.78 * z * (1 - z) + 0.2 * y])\n",
    "    \n",
    "    \n",
    "from matplotlib import pyplot as plt\n",
    "import mpl_toolkits.mplot3d.axes3d as axes3d \n",
    "\n",
    "def plot3d(xyz, title=None, angle=30, kind='lines'):\n",
    "    fig = plt.figure(figsize=(6,6))\n",
    "    ax = axes3d.Axes3D(fig)\n",
    "    if kind == 'lines':\n",
    "        ax.plot3D(xyz[0], xyz[1], xyz[2], alpha=0.7, lw=0.3)\n",
    "    else:\n",
    "        ax.scatter(xyz[0], xyz[1], xyz[2], alpha=0.7, linewidths=0.01, s=1)\n",
    "    ax.view_init(30, angle)\n",
    "\n",
    "    fig.add_axes(ax)\n",
    "    plt.title(title)\n",
    "    plt.show(block=False)\n",
    "\n",
    "    \n",
    "def plot2d(xy, title=None, s=1, lw=1, kind='scatter'):\n",
    "    plt.figure(figsize=(6,6))\n",
    "    if kind == 'lines':\n",
    "        plt.plot(xy[0], xy[1], alpha=0.7, lw=lw)\n",
    "    else:\n",
    "        plt.scatter(xy[0], xy[1], alpha=0.7, s=s, linewidths=0.01)\n",
    "    plt.title(title)\n",
    "    plt.show(block=False)"
   ]
  },
  {
   "cell_type": "markdown",
   "metadata": {},
   "source": [
    "#### Atrator de Lorenz original e reconstruído"
   ]
  },
  {
   "cell_type": "code",
   "execution_count": 4,
   "metadata": {},
   "outputs": [],
   "source": [
    "from src.lyapunov_support import find_lag\n",
    "import src.animation_plot as anime_plot"
   ]
  },
  {
   "cell_type": "code",
   "execution_count": 5,
   "metadata": {},
   "outputs": [],
   "source": [
    "original_series = generate(LorenzODE(), lenght=5000)\n",
    "#plot3d(original_series, title=\"Atrator de Lorenz\", angle=120)"
   ]
  },
  {
   "cell_type": "code",
   "execution_count": 6,
   "metadata": {},
   "outputs": [
    {
     "name": "stderr",
     "output_type": "stream",
     "text": [
      "MovieWriter imagemagick unavailable; trying to use <class 'matplotlib.animation.PillowWriter'> instead.\n"
     ]
    }
   ],
   "source": [
    "anime_plot.create_animation_3d(original_series, gif_name=\"./img/lorenz_atractor.gif\", figsize=(6,6))"
   ]
  },
  {
   "cell_type": "code",
   "execution_count": 7,
   "metadata": {},
   "outputs": [
    {
     "data": {
      "text/html": [
       "<img src=\"../img/lorenz_atractor.gif\">"
      ],
      "text/plain": [
       "<IPython.core.display.HTML object>"
      ]
     },
     "execution_count": 7,
     "metadata": {},
     "output_type": "execute_result"
    }
   ],
   "source": [
    "anime_plot.plot_animation(gif_name=\"../img/lorenz_atractor.gif\")"
   ]
  },
  {
   "cell_type": "code",
   "execution_count": 8,
   "metadata": {},
   "outputs": [
    {
     "name": "stdout",
     "output_type": "stream",
     "text": [
      "16\n"
     ]
    }
   ],
   "source": [
    "tau = find_lag(original_series[0])\n",
    "print(tau)"
   ]
  },
  {
   "cell_type": "code",
   "execution_count": 9,
   "metadata": {},
   "outputs": [
    {
     "name": "stderr",
     "output_type": "stream",
     "text": [
      "MovieWriter imagemagick unavailable; trying to use <class 'matplotlib.animation.PillowWriter'> instead.\n"
     ]
    }
   ],
   "source": [
    "reconstructed_series = psr(original_series[0], m=3, tau=tau)\n",
    "#plot3d(reconstructed_series, title=\"Reconstrução do atrator de Lorenz\", angle=0)\n",
    "anime_plot.create_animation_3d(reconstructed_series, gif_name=\"./img/lorenz_atractor_reconstruction.gif\", figsize=(6,6))"
   ]
  },
  {
   "cell_type": "code",
   "execution_count": 10,
   "metadata": {},
   "outputs": [
    {
     "data": {
      "text/html": [
       "<img src=\"../img/lorenz_atractor_reconstruction.gif\">"
      ],
      "text/plain": [
       "<IPython.core.display.HTML object>"
      ]
     },
     "execution_count": 10,
     "metadata": {},
     "output_type": "execute_result"
    }
   ],
   "source": [
    "anime_plot.plot_animation(gif_name=\"../img/lorenz_atractor_reconstruction.gif\")"
   ]
  },
  {
   "cell_type": "markdown",
   "metadata": {},
   "source": [
    "#### Atrator de Rossler original e reconstruído"
   ]
  },
  {
   "cell_type": "code",
   "execution_count": 11,
   "metadata": {},
   "outputs": [
    {
     "name": "stderr",
     "output_type": "stream",
     "text": [
      "MovieWriter imagemagick unavailable; trying to use <class 'matplotlib.animation.PillowWriter'> instead.\n"
     ]
    }
   ],
   "source": [
    "original_series = generate(RosslerODE(), lenght=5000)\n",
    "#plot3d(original_series, title=\"Atrator de Rossler\")\n",
    "\n",
    "anime_plot.create_animation_3d(original_series, gif_name=\"./img/rossler_atractor.gif\", figsize=(6,6))"
   ]
  },
  {
   "cell_type": "code",
   "execution_count": 12,
   "metadata": {},
   "outputs": [
    {
     "data": {
      "text/html": [
       "<img src=\"../img/rossler_atractor.gif\">"
      ],
      "text/plain": [
       "<IPython.core.display.HTML object>"
      ]
     },
     "execution_count": 12,
     "metadata": {},
     "output_type": "execute_result"
    }
   ],
   "source": [
    "anime_plot.plot_animation(gif_name=\"../img/rossler_atractor.gif\")"
   ]
  },
  {
   "cell_type": "code",
   "execution_count": 13,
   "metadata": {},
   "outputs": [
    {
     "name": "stdout",
     "output_type": "stream",
     "text": [
      "117\n"
     ]
    }
   ],
   "source": [
    "tau = find_lag(original_series[0])\n",
    "print(tau)"
   ]
  },
  {
   "cell_type": "code",
   "execution_count": 14,
   "metadata": {},
   "outputs": [
    {
     "name": "stderr",
     "output_type": "stream",
     "text": [
      "MovieWriter imagemagick unavailable; trying to use <class 'matplotlib.animation.PillowWriter'> instead.\n"
     ]
    }
   ],
   "source": [
    "reconstructed_series = psr(original_series[0], m=3, tau=tau)\n",
    "#plot3d(reconstructed_series, title=\"Reconstrução do atrator de Rossler\")\n",
    "anime_plot.create_animation_3d(reconstructed_series, gif_name=\"./img/rossler_atractor_reconstruction.gif\", figsize=(6,6))"
   ]
  },
  {
   "cell_type": "code",
   "execution_count": 15,
   "metadata": {},
   "outputs": [
    {
     "data": {
      "text/html": [
       "<img src=\"../img/rossler_atractor_reconstruction.gif\">"
      ],
      "text/plain": [
       "<IPython.core.display.HTML object>"
      ]
     },
     "execution_count": 15,
     "metadata": {},
     "output_type": "execute_result"
    }
   ],
   "source": [
    "anime_plot.plot_animation(gif_name=\"../img/rossler_atractor_reconstruction.gif\")"
   ]
  },
  {
   "cell_type": "markdown",
   "metadata": {},
   "source": [
    "### Exercício 3\n",
    "\n",
    "Implemente os métodos de cálculo de expoente de Lyapunov apresentados no artigo do Parlitz, no arquivo denominado “Parlitz-LyapunovExponent”."
   ]
  },
  {
   "cell_type": "code",
   "execution_count": 16,
   "metadata": {},
   "outputs": [],
   "source": [
    "#%%writefile -a \"nltsa_functions.py\"\n",
    "\n",
    "from numba import jit\n",
    "\n",
    "#@jit(nopython=True, parallel = True)\n",
    "def dist(series, i, j):\n",
    "    \"\"\"\n",
    "    The Euclidian distance from two elements of series\n",
    "    :param series: the complete time series;\n",
    "    :param i: first element position from time series;\n",
    "    :param j: second element position from time series;\n",
    "    :return: the distance.\n",
    "    \"\"\"\n",
    "    #return np.linalg.norm(series[i] - series[j])\n",
    "    return max(abs(series[i] - series[j]))\n",
    "\n",
    "#@jit(nopython=True, parallel = True)\n",
    "def logdist_pos(series, i, j, eta=1):\n",
    "    \"\"\"\n",
    "    Log distance from two elements from a time series\n",
    "    :param series: the complete time series\n",
    "    :param i: first element position from time series\n",
    "    :param j: second element position from time series\n",
    "    :return: the distance.\n",
    "    \"\"\"\n",
    "    if max(i, j) < len(series):\n",
    "        distance = dist(series, i, j)\n",
    "        return np.log(distance) if distance != 0 else None\n",
    "\n",
    "# Set \"nopython\" mode for best performance, equivalent to @njit\n",
    "#@jit(nopython=True, parallel = True) \n",
    "def nn(i, series, w=5):\n",
    "    \"\"\"\n",
    "    Find the nearest neighbor from a time series element\n",
    "    :param i: a element position from time series\n",
    "    :param series: the complete time series\n",
    "    :param w: Theiler window 'w' from Paralitz paper\n",
    "    :return: the nearest neighbor position on series\n",
    "    \"\"\"\n",
    "    distances = np.max(abs(series - series[i]), axis=1)\n",
    "    #distances = np.apply_along_axis(np.linalg.norm, 1, series - series[i])\n",
    "    \n",
    "    max_dist = max(distances)\n",
    "    for k in np.arange(max(0, i - w), w):\n",
    "        distances[k] = max_dist\n",
    "    \n",
    "    return np.argmin(distances)"
   ]
  },
  {
   "cell_type": "markdown",
   "metadata": {},
   "source": [
    "O maior expoente de Lyapunov corresponde ao coeficiente angular do gráfico da evolução das distâncias."
   ]
  },
  {
   "cell_type": "code",
   "execution_count": 17,
   "metadata": {},
   "outputs": [],
   "source": [
    "#%%writefile -a \"nltsa_functions.py\"\n",
    "\n",
    "# Set \"nopython\" mode for best performance, equivalent to @njit\n",
    "#@jit(nopython=True, parallel = True) \n",
    "def distance_evolution(series, trajectory_len=15):\n",
    "    \"\"\"\n",
    "    Evaluates the distances evolution mean among the points and their nearest neighbors\n",
    "    \n",
    "    References:\n",
    "    \n",
    "    M. T. Rosenstein, J. J. Collins, and C. J. De Luca,\n",
    "       “A practical method for calculating largest Lyapunov exponents from\n",
    "       small data sets,” Physica D: Nonlinear Phenomena, vol. 65, no. 1,\n",
    "       pp. 117–134, 1993.\n",
    "       \n",
    "    :param series: the complete time series\n",
    "    :param trajectory_len: the time (in number of data points) to follow the distance\n",
    "      trajectories between two neighboring points\n",
    "    :return: average trajectory distances\n",
    "    \"\"\"\n",
    "    N=len(series)\n",
    "    dlist=np.zeros((N,trajectory_len))\n",
    "    \n",
    "    #print(\"Calculando vizinhos\")\n",
    "    iis = np.arange(N)\n",
    "    nns = np.array([nn(i, series) for i in iis])\n",
    "    \n",
    "    \n",
    "    for k in range(trajectory_len):\n",
    "        #print(\"Calculando a evolucao\", j)\n",
    "        dlist[:,k] = np.array([logdist_pos(series, i+k, nns[i]+k) for i in iis])\n",
    "    \n",
    "    return np.nanmean(dlist, axis=0)\n",
    "\n",
    "\n",
    "from scipy.stats import linregress as lr\n",
    "\n",
    "def lyap_from_dist(distances, debug_plot=True, a=0, b=100):\n",
    "    \"\"\"\n",
    "    Estimates the largest Lyapunov exponent from average distances\n",
    "    \n",
    "    References:\n",
    "    \n",
    "    M. T. Rosenstein, J. J. Collins, and C. J. De Luca,\n",
    "       “A practical method for calculating largest Lyapunov exponents from\n",
    "       small data sets,” Physica D: Nonlinear Phenomena, vol. 65, no. 1,\n",
    "       pp. 117–134, 1993.\n",
    "       \n",
    "    :param distances: average trajectory distances\n",
    "    :return: an estimate of the largest Lyapunov exponent (a positive exponent is\n",
    "      a strong indicator for chaos)\n",
    "    \"\"\"\n",
    "    \n",
    "    x = np.arange(len(distances))[a:b]\n",
    "    y = distances[a:b]\n",
    "    reg = lr(x, y)\n",
    "    yr = reg.slope * x + reg.intercept\n",
    "    \n",
    "    if debug_plot:\n",
    "        plt.scatter(x, y, alpha=0.7, s=50)\n",
    "        plt.plot(x, yr, lw=1, c='r')\n",
    "        plt.title(\"Average Distances Evolution (Lyapunov = %.2f)\"% reg.slope)\n",
    "        plt.show(block=False)\n",
    "    \n",
    "    return reg.slope"
   ]
  },
  {
   "cell_type": "markdown",
   "metadata": {},
   "source": [
    "### Exercício 4\n",
    "\n",
    "Aplique-os para os atratores de Henon, Lorenz e Rossler."
   ]
  },
  {
   "cell_type": "code",
   "execution_count": 18,
   "metadata": {},
   "outputs": [
    {
     "name": "stdout",
     "output_type": "stream",
     "text": [
      "Maior expoente para o atrator de Lorenz -0.02236169809087165\n"
     ]
    }
   ],
   "source": [
    "lorenz_series = generate(LorenzODE()).transpose()\n",
    "lorenz_dists = distance_evolution(lorenz_series, 30)\n",
    "lorenz_lyap = lyap_from_dist(lorenz_dists, debug_plot=False)\n",
    "print(\"Maior expoente para o atrator de Lorenz\", lorenz_lyap)"
   ]
  },
  {
   "cell_type": "code",
   "execution_count": 19,
   "metadata": {},
   "outputs": [
    {
     "name": "stdout",
     "output_type": "stream",
     "text": [
      "Maior expoente para o atrator de Rossler -0.0002346296204175922\n"
     ]
    }
   ],
   "source": [
    "rossler_series = generate(RosslerODE()).transpose()\n",
    "rossler_dists = distance_evolution(rossler_series, 30)\n",
    "rossler_lyap = lyap_from_dist(rossler_dists, debug_plot=False)\n",
    "print(\"Maior expoente para o atrator de Rossler\", rossler_lyap)"
   ]
  },
  {
   "cell_type": "code",
   "execution_count": 20,
   "metadata": {},
   "outputs": [
    {
     "name": "stdout",
     "output_type": "stream",
     "text": [
      "Maior expoente para o atrator de Henon 0.5107801970173044\n"
     ]
    }
   ],
   "source": [
    "henon_series = generate_discrete(HenonMap()).transpose()\n",
    "henon_dists = distance_evolution(henon_series, 10)\n",
    "henon_lyap = lyap_from_dist(henon_dists, debug_plot=False)\n",
    "print(\"Maior expoente para o atrator de Henon\", henon_lyap)"
   ]
  },
  {
   "cell_type": "markdown",
   "metadata": {},
   "source": [
    "### Exercício 5\n",
    "\n",
    "Reproduza, na medida do possível, os resultados apresentados no referido artigo."
   ]
  },
  {
   "cell_type": "markdown",
   "metadata": {},
   "source": [
    "#### Outros mapas apresentados no artigo juntamente com seus atratores reconstruídos"
   ]
  },
  {
   "cell_type": "markdown",
   "metadata": {},
   "source": [
    "##### Mapa de Henon original e reconstruído"
   ]
  },
  {
   "cell_type": "code",
   "execution_count": 21,
   "metadata": {},
   "outputs": [
    {
     "data": {
      "image/png": "[encoded data removed]",
      "text/plain": [
       "<Figure size 432x432 with 1 Axes>"
      ]
     },
     "metadata": {
      "needs_background": "light"
     },
     "output_type": "display_data"
    },
    {
     "data": {
      "image/png": "[encoded data removed]",
      "text/plain": [
       "<Figure size 432x432 with 1 Axes>"
      ]
     },
     "metadata": {
      "needs_background": "light"
     },
     "output_type": "display_data"
    }
   ],
   "source": [
    "original_series = generate_discrete(HenonMap(), lenght=5000)\n",
    "plot2d(original_series, title=\"Mapa de Henon\")\n",
    "\n",
    "#tau = find_lag(original_series[0])\n",
    "\n",
    "reconstructed_series = psr(original_series[0], m=2, tau=1)\n",
    "plot2d(reconstructed_series, title=\"Reconstrução do atrator do mapa de Henon\")"
   ]
  },
  {
   "cell_type": "code",
   "execution_count": 22,
   "metadata": {},
   "outputs": [
    {
     "data": {
      "text/plain": [
       "117"
      ]
     },
     "execution_count": 22,
     "metadata": {},
     "output_type": "execute_result"
    }
   ],
   "source": [
    "tau"
   ]
  },
  {
   "cell_type": "markdown",
   "metadata": {},
   "source": [
    "##### Mapa Folded-Towel (Paralitz)"
   ]
  },
  {
   "cell_type": "code",
   "execution_count": 23,
   "metadata": {},
   "outputs": [],
   "source": [
    "original_series = generate_discrete(FoldedTowelMap(), lenght=5000)\n",
    "#plot3d(original_series, title=\"Mapa Folded-Towel\", angle=240, kind='scatter')"
   ]
  },
  {
   "cell_type": "code",
   "execution_count": 24,
   "metadata": {},
   "outputs": [
    {
     "name": "stderr",
     "output_type": "stream",
     "text": [
      "MovieWriter imagemagick unavailable; trying to use <class 'matplotlib.animation.PillowWriter'> instead.\n"
     ]
    }
   ],
   "source": [
    "anime_plot.create_animation_3d_scatter(original_series, gif_name=\"./img/FoldedTowelMap.gif\", figsize=(6,6))"
   ]
  },
  {
   "cell_type": "code",
   "execution_count": 25,
   "metadata": {},
   "outputs": [
    {
     "data": {
      "text/html": [
       "<img src=\"../img/FoldedTowelMap.gif\">"
      ],
      "text/plain": [
       "<IPython.core.display.HTML object>"
      ]
     },
     "execution_count": 25,
     "metadata": {},
     "output_type": "execute_result"
    }
   ],
   "source": [
    "anime_plot.plot_animation(gif_name=\"../img/FoldedTowelMap.gif\")"
   ]
  },
  {
   "cell_type": "code",
   "execution_count": 26,
   "metadata": {},
   "outputs": [
    {
     "name": "stderr",
     "output_type": "stream",
     "text": [
      "MovieWriter imagemagick unavailable; trying to use <class 'matplotlib.animation.PillowWriter'> instead.\n"
     ]
    }
   ],
   "source": [
    "#Reconstrucao feita conforme o artigo\n",
    "#tau = find_lag(original_series[0])\n",
    "\n",
    "reconstructed_series = psr(original_series[0], m=3, tau=1)\n",
    "#plot3d(reconstructed_series, title=\"Reconstrução do atrator do mapa Folded-Towel\", angle=210, kind=\"scatter\")\n",
    "anime_plot.create_animation_3d_scatter(reconstructed_series, gif_name=\"./img/FoldedTowelMap_reconstruction.gif\", figsize=(6,6))"
   ]
  },
  {
   "cell_type": "code",
   "execution_count": 27,
   "metadata": {},
   "outputs": [
    {
     "data": {
      "text/html": [
       "<img src=\"../img/FoldedTowelMap_reconstruction.gif\">"
      ],
      "text/plain": [
       "<IPython.core.display.HTML object>"
      ]
     },
     "execution_count": 27,
     "metadata": {},
     "output_type": "execute_result"
    }
   ],
   "source": [
    "anime_plot.plot_animation(gif_name=\"../img/FoldedTowelMap_reconstruction.gif\")"
   ]
  },
  {
   "cell_type": "markdown",
   "metadata": {},
   "source": [
    "#### Maior coeficiente de Lyapunov calculado para o mapa Folded-Towel"
   ]
  },
  {
   "cell_type": "code",
   "execution_count": 28,
   "metadata": {},
   "outputs": [
    {
     "name": "stdout",
     "output_type": "stream",
     "text": [
      "Maior expoente para o mapa Folded-Towel 0.4555763131342845\n"
     ]
    }
   ],
   "source": [
    "folded_towel_series = generate_discrete(FoldedTowelMap(), lenght=5000).transpose()\n",
    "folded_towel_dists = distance_evolution(folded_towel_series, 10)\n",
    "folded_towel_lyap = lyap_from_dist(folded_towel_dists, debug_plot=False)\n",
    "print(\"Maior expoente para o mapa Folded-Towel\", folded_towel_lyap)"
   ]
  },
  {
   "cell_type": "markdown",
   "metadata": {},
   "source": [
    "#### Limite de expansão da diferença entre as trajetórias\n",
    "\n",
    "A interpretação do coeficiente de Lyapunov sugere que tragetórias com stados iniciais próximos se distanciam exponecialmente. Por outro lado, os atratores fazem com que as trajetórias fiquem restritas ao seu espaço de ação, portanto o distanciamento não pode ser maior que a região do atrator. Isto faz com que as distâncias entre as trajetórias se estabilizem ao longo do tempo. Isto é descrito na seção 1.3.2 do artigo e a figura 1.2 ilustra este comportamento. Os gráficos abaixo demonstram este fenômeno na prática.\n",
    "\n",
    "No eixo x temos os instantes em que as observações foram extraídas e no eixo y temos a distância média entre trajetórias que tiveram estados iniciais próximos."
   ]
  },
  {
   "cell_type": "code",
   "execution_count": 29,
   "metadata": {},
   "outputs": [
    {
     "data": {
      "image/png": "[encoded data removed]",
      "text/plain": [
       "<Figure size 432x288 with 1 Axes>"
      ]
     },
     "metadata": {
      "needs_background": "light"
     },
     "output_type": "display_data"
    }
   ],
   "source": [
    "lorenz_lyap = lyap_from_dist(lorenz_dists,a=5,b=10)"
   ]
  },
  {
   "cell_type": "code",
   "execution_count": 30,
   "metadata": {},
   "outputs": [
    {
     "data": {
      "image/png": "[encoded data removed]",
      "text/plain": [
       "<Figure size 432x288 with 1 Axes>"
      ]
     },
     "metadata": {
      "needs_background": "light"
     },
     "output_type": "display_data"
    }
   ],
   "source": [
    "rossler_lyap = lyap_from_dist(rossler_dists)"
   ]
  },
  {
   "cell_type": "code",
   "execution_count": 31,
   "metadata": {},
   "outputs": [
    {
     "data": {
      "image/png": "[encoded data removed]",
      "text/plain": [
       "<Figure size 432x288 with 1 Axes>"
      ]
     },
     "metadata": {
      "needs_background": "light"
     },
     "output_type": "display_data"
    }
   ],
   "source": [
    "henon_lyap = lyap_from_dist(henon_dists)"
   ]
  },
  {
   "cell_type": "code",
   "execution_count": 32,
   "metadata": {},
   "outputs": [
    {
     "data": {
      "image/png": "[encoded data removed]",
      "text/plain": [
       "<Figure size 432x288 with 1 Axes>"
      ]
     },
     "metadata": {
      "needs_background": "light"
     },
     "output_type": "display_data"
    }
   ],
   "source": [
    "folded_towel_lyap = lyap_from_dist(folded_towel_dists)"
   ]
  },
  {
   "cell_type": "code",
   "execution_count": null,
   "metadata": {},
   "outputs": [],
   "source": []
  }
 ],
 "metadata": {
  "kernelspec": {
   "display_name": "Python 3",
   "language": "python",
   "name": "python3"
  },
  "language_info": {
   "codemirror_mode": {
    "name": "ipython",
    "version": 3
   },
   "file_extension": ".py",
   "mimetype": "text/x-python",
   "name": "python",
   "nbconvert_exporter": "python",
   "pygments_lexer": "ipython3",
   "version": "3.7.4"
  }
 },
 "nbformat": 4,
 "nbformat_minor": 4
}
